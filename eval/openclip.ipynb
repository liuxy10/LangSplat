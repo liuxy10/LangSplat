{
 "cells": [
  {
   "cell_type": "code",
   "execution_count": 1,
   "metadata": {},
   "outputs": [],
   "source": [
    "import open_clip\n",
    "import numpy as np\n",
    "import torch\n",
    "from openclip_encoder import OpenCLIPNetwork"
   ]
  },
  {
   "cell_type": "code",
   "execution_count": 2,
   "metadata": {},
   "outputs": [],
   "source": [
    "device = torch.device(\"cuda\" if torch.cuda.is_available() else \"cpu\")"
   ]
  },
  {
   "cell_type": "code",
   "execution_count": 3,
   "metadata": {},
   "outputs": [],
   "source": [
    "# model, _, preprocess = open_clip.create_model_and_transforms('convnext_base_w', pretrained='laion2b_s13b_b82k_augreg')\n",
    "clip_model_type = \"ViT-B-16\"\n",
    "clip_model_pretrained = 'laion2b_s34b_b88k'\n",
    "clip_n_dims = 512\n",
    "model, _, _ = open_clip.create_model_and_transforms(\n",
    "            clip_model_type,\n",
    "            pretrained=clip_model_pretrained,\n",
    "            precision=\"fp16\",\n",
    "        )\n",
    "# model.eval()"
   ]
  },
  {
   "cell_type": "code",
   "execution_count": 4,
   "metadata": {},
   "outputs": [],
   "source": [
    "tokenizer = open_clip.get_tokenizer(clip_model_type)\n",
    "model = model.to(\"cuda\")\n"
   ]
  },
  {
   "cell_type": "code",
   "execution_count": 5,
   "metadata": {},
   "outputs": [],
   "source": [
    "positives = (\"switch\", \"Nintendo\", \"red\", \"controller\", \n",
    "             \"UNO\", \"card\", \"stack\"\n",
    "             \"sofa\",\"grey\",\n",
    "             \"Gundam\", \n",
    "             \"Pikachu\", \n",
    "             \"Xbox\", \"wireless\")\n",
    "with torch.no_grad():\n",
    "    tok_phrases = torch.cat([tokenizer(phrase) for phrase in positives]).to(device)\n",
    "    pos_embeds = model.encode_text(tok_phrases)\n",
    "pos_embeds /= pos_embeds.norm(dim=-1, keepdim=True)  "
   ]
  },
  {
   "cell_type": "code",
   "execution_count": 6,
   "metadata": {},
   "outputs": [
    {
     "data": {
      "text/plain": [
       "torch.Size([12, 512])"
      ]
     },
     "execution_count": 6,
     "metadata": {},
     "output_type": "execute_result"
    }
   ],
   "source": [
    "pos_embeds.shape\n"
   ]
  },
  {
   "cell_type": "code",
   "execution_count": 7,
   "metadata": {},
   "outputs": [],
   "source": [
    "# now import features pretrained preprocessed npy\n",
    "import sys\n",
    "import types\n",
    "sys.path.append(\"~/LangSplat\")\n",
    "\n",
    "dict_args = {}\n",
    "args = types.SimpleNamespace(**dict_args)\n",
    "# parser.add_argument(\"--iteration\", default=-1, type=int)\n",
    "# parser.add_argument(\"--skip_train\", action=\"store_true\")\n",
    "# parser.add_argument(\"--skip_test\", action=\"store_true\")\n",
    "# parser.add_argument(\"--quiet\", action=\"store_true\")\n",
    "# parser.add_argument(\"--include_feature\", action=\"store_true\")\n",
    "# parser.add_argument(\"--model_path\", default = \"/home/sarah/LangSplat/sofa/sofa_1\")\n",
    "args.iteration = -1\n",
    "args.skip_train = True\n",
    "args.skip_test = True\n",
    "args.quiet = True\n",
    "args.include_feature = True\n",
    "args.model_path = \"/home/sarah/LangSplat/sofa/sofa_1\""
   ]
  },
  {
   "cell_type": "code",
   "execution_count": 11,
   "metadata": {},
   "outputs": [
    {
     "ename": "ModuleNotFoundError",
     "evalue": "No module named 'utils.system_utils'; 'utils' is not a package",
     "output_type": "error",
     "traceback": [
      "\u001b[0;31m---------------------------------------------------------------------------\u001b[0m",
      "\u001b[0;31mModuleNotFoundError\u001b[0m                       Traceback (most recent call last)",
      "\u001b[0;32m/tmp/ipykernel_367852/2664469114.py\u001b[0m in \u001b[0;36m<module>\u001b[0;34m\u001b[0m\n\u001b[1;32m      2\u001b[0m \u001b[0msys\u001b[0m\u001b[0;34m.\u001b[0m\u001b[0mpath\u001b[0m\u001b[0;34m.\u001b[0m\u001b[0mappend\u001b[0m\u001b[0;34m(\u001b[0m\u001b[0;34m\"/home/sarah/LangSplat/utils/\"\u001b[0m\u001b[0;34m)\u001b[0m\u001b[0;34m\u001b[0m\u001b[0;34m\u001b[0m\u001b[0m\n\u001b[1;32m      3\u001b[0m \u001b[0;32mfrom\u001b[0m \u001b[0mgeneral_utils\u001b[0m \u001b[0;32mimport\u001b[0m \u001b[0msafe_state\u001b[0m\u001b[0;34m\u001b[0m\u001b[0;34m\u001b[0m\u001b[0m\n\u001b[0;32m----> 4\u001b[0;31m \u001b[0;32mfrom\u001b[0m \u001b[0mrender\u001b[0m \u001b[0;32mimport\u001b[0m \u001b[0mrender_sets\u001b[0m\u001b[0;34m\u001b[0m\u001b[0;34m\u001b[0m\u001b[0m\n\u001b[0m\u001b[1;32m      5\u001b[0m \u001b[0msys\u001b[0m\u001b[0;34m.\u001b[0m\u001b[0mpath\u001b[0m\u001b[0;34m.\u001b[0m\u001b[0mappend\u001b[0m\u001b[0;34m(\u001b[0m\u001b[0;34m\"/home/sarah/LangSplat/scene\"\u001b[0m\u001b[0;34m)\u001b[0m\u001b[0;34m\u001b[0m\u001b[0;34m\u001b[0m\u001b[0m\n\u001b[1;32m      6\u001b[0m \u001b[0;32mfrom\u001b[0m \u001b[0mscene\u001b[0m \u001b[0;32mimport\u001b[0m \u001b[0mScene\u001b[0m\u001b[0;34m\u001b[0m\u001b[0;34m\u001b[0m\u001b[0m\n",
      "\u001b[0;32m~/LangSplat/render.py\u001b[0m in \u001b[0;36m<module>\u001b[0;34m\u001b[0m\n\u001b[1;32m     11\u001b[0m \u001b[0;32mimport\u001b[0m \u001b[0mnumpy\u001b[0m \u001b[0;32mas\u001b[0m \u001b[0mnp\u001b[0m\u001b[0;34m\u001b[0m\u001b[0;34m\u001b[0m\u001b[0m\n\u001b[1;32m     12\u001b[0m \u001b[0;32mimport\u001b[0m \u001b[0mtorch\u001b[0m\u001b[0;34m\u001b[0m\u001b[0;34m\u001b[0m\u001b[0m\n\u001b[0;32m---> 13\u001b[0;31m \u001b[0;32mfrom\u001b[0m \u001b[0mscene\u001b[0m \u001b[0;32mimport\u001b[0m \u001b[0mScene\u001b[0m\u001b[0;34m\u001b[0m\u001b[0;34m\u001b[0m\u001b[0m\n\u001b[0m\u001b[1;32m     14\u001b[0m \u001b[0;32mimport\u001b[0m \u001b[0mos\u001b[0m\u001b[0;34m\u001b[0m\u001b[0;34m\u001b[0m\u001b[0m\n\u001b[1;32m     15\u001b[0m \u001b[0;32mfrom\u001b[0m \u001b[0mtqdm\u001b[0m \u001b[0;32mimport\u001b[0m \u001b[0mtqdm\u001b[0m\u001b[0;34m\u001b[0m\u001b[0;34m\u001b[0m\u001b[0m\n",
      "\u001b[0;32m~/LangSplat/scene/__init__.py\u001b[0m in \u001b[0;36m<module>\u001b[0;34m\u001b[0m\n\u001b[1;32m     13\u001b[0m \u001b[0;32mimport\u001b[0m \u001b[0mrandom\u001b[0m\u001b[0;34m\u001b[0m\u001b[0;34m\u001b[0m\u001b[0m\n\u001b[1;32m     14\u001b[0m \u001b[0;32mimport\u001b[0m \u001b[0mjson\u001b[0m\u001b[0;34m\u001b[0m\u001b[0;34m\u001b[0m\u001b[0m\n\u001b[0;32m---> 15\u001b[0;31m \u001b[0;32mfrom\u001b[0m \u001b[0mutils\u001b[0m\u001b[0;34m.\u001b[0m\u001b[0msystem_utils\u001b[0m \u001b[0;32mimport\u001b[0m \u001b[0msearchForMaxIteration\u001b[0m\u001b[0;34m\u001b[0m\u001b[0;34m\u001b[0m\u001b[0m\n\u001b[0m\u001b[1;32m     16\u001b[0m \u001b[0;32mfrom\u001b[0m \u001b[0mscene\u001b[0m\u001b[0;34m.\u001b[0m\u001b[0mdataset_readers\u001b[0m \u001b[0;32mimport\u001b[0m \u001b[0msceneLoadTypeCallbacks\u001b[0m\u001b[0;34m\u001b[0m\u001b[0;34m\u001b[0m\u001b[0m\n\u001b[1;32m     17\u001b[0m \u001b[0;32mfrom\u001b[0m \u001b[0mscene\u001b[0m\u001b[0;34m.\u001b[0m\u001b[0mgaussian_model\u001b[0m \u001b[0;32mimport\u001b[0m \u001b[0mGaussianModel\u001b[0m\u001b[0;34m\u001b[0m\u001b[0;34m\u001b[0m\u001b[0m\n",
      "\u001b[0;31mModuleNotFoundError\u001b[0m: No module named 'utils.system_utils'; 'utils' is not a package"
     ]
    }
   ],
   "source": [
    "sys.path.append(\"/home/sarah/LangSplat/\")\n",
    "sys.path.append(\"/home/sarah/LangSplat/utils/\")\n",
    "from general_utils import safe_state\n",
    "from render import render_sets\n",
    "sys.path.append(\"/home/sarah/LangSplat/scene\")\n",
    "from scene import Scene\n",
    "render_sets(model.extract(args), args.iteration, pipeline.extract(args), args.skip_train, args.skip_test, args)"
   ]
  },
  {
   "cell_type": "code",
   "execution_count": 26,
   "metadata": {},
   "outputs": [
    {
     "name": "stdout",
     "output_type": "stream",
     "text": [
      "Obtaining file:///home/sarah/LangSplat\r\n",
      "\u001b[31mERROR: file:///home/sarah/LangSplat does not appear to be a Python project: neither 'setup.py' nor 'pyproject.toml' found.\u001b[0m\u001b[31m\r\n",
      "\u001b[0m"
     ]
    }
   ],
   "source": [
    "!cd /home/sarah/LangSplat/Scene && pip install -e ."
   ]
  },
  {
   "cell_type": "code",
   "execution_count": 35,
   "metadata": {},
   "outputs": [
    {
     "ename": "ModuleNotFoundError",
     "evalue": "No module named 'utils.system_utils'; 'utils' is not a package",
     "output_type": "error",
     "traceback": [
      "\u001b[0;31m---------------------------------------------------------------------------\u001b[0m",
      "\u001b[0;31mModuleNotFoundError\u001b[0m                       Traceback (most recent call last)",
      "\u001b[0;32m/tmp/ipykernel_365385/3715392760.py\u001b[0m in \u001b[0;36m<module>\u001b[0;34m\u001b[0m\n\u001b[1;32m      1\u001b[0m \u001b[0;32mfrom\u001b[0m \u001b[0marguments\u001b[0m \u001b[0;32mimport\u001b[0m \u001b[0mModelParams\u001b[0m\u001b[0;34m,\u001b[0m \u001b[0mPipelineParams\u001b[0m\u001b[0;34m,\u001b[0m \u001b[0mget_combined_args\u001b[0m\u001b[0;34m\u001b[0m\u001b[0;34m\u001b[0m\u001b[0m\n\u001b[1;32m      2\u001b[0m \u001b[0;31m# from gaussian_renderer import GaussianModel\u001b[0m\u001b[0;34m\u001b[0m\u001b[0;34m\u001b[0m\u001b[0;34m\u001b[0m\u001b[0m\n\u001b[0;32m----> 3\u001b[0;31m \u001b[0;32mfrom\u001b[0m \u001b[0mscene\u001b[0m \u001b[0;32mimport\u001b[0m \u001b[0mScene\u001b[0m\u001b[0;34m\u001b[0m\u001b[0;34m\u001b[0m\u001b[0m\n\u001b[0m\u001b[1;32m      4\u001b[0m \u001b[0msys\u001b[0m\u001b[0;34m.\u001b[0m\u001b[0mpath\u001b[0m\u001b[0;34m.\u001b[0m\u001b[0mappend\u001b[0m\u001b[0;34m(\u001b[0m\u001b[0;34m'/home/sarah/LangSplat/utils'\u001b[0m\u001b[0;34m)\u001b[0m\u001b[0;34m\u001b[0m\u001b[0;34m\u001b[0m\u001b[0m\n\u001b[1;32m      5\u001b[0m \u001b[0;34m\u001b[0m\u001b[0m\n",
      "\u001b[0;32m~/LangSplat/scene/__init__.py\u001b[0m in \u001b[0;36m<module>\u001b[0;34m\u001b[0m\n\u001b[1;32m     13\u001b[0m \u001b[0;32mimport\u001b[0m \u001b[0mrandom\u001b[0m\u001b[0;34m\u001b[0m\u001b[0;34m\u001b[0m\u001b[0m\n\u001b[1;32m     14\u001b[0m \u001b[0;32mimport\u001b[0m \u001b[0mjson\u001b[0m\u001b[0;34m\u001b[0m\u001b[0;34m\u001b[0m\u001b[0m\n\u001b[0;32m---> 15\u001b[0;31m \u001b[0;32mfrom\u001b[0m \u001b[0mutils\u001b[0m\u001b[0;34m.\u001b[0m\u001b[0msystem_utils\u001b[0m \u001b[0;32mimport\u001b[0m \u001b[0msearchForMaxIteration\u001b[0m\u001b[0;34m\u001b[0m\u001b[0;34m\u001b[0m\u001b[0m\n\u001b[0m\u001b[1;32m     16\u001b[0m \u001b[0;32mfrom\u001b[0m \u001b[0mscene\u001b[0m\u001b[0;34m.\u001b[0m\u001b[0mdataset_readers\u001b[0m \u001b[0;32mimport\u001b[0m \u001b[0msceneLoadTypeCallbacks\u001b[0m\u001b[0;34m\u001b[0m\u001b[0;34m\u001b[0m\u001b[0m\n\u001b[1;32m     17\u001b[0m \u001b[0;32mfrom\u001b[0m \u001b[0mscene\u001b[0m\u001b[0;34m.\u001b[0m\u001b[0mgaussian_model\u001b[0m \u001b[0;32mimport\u001b[0m \u001b[0mGaussianModel\u001b[0m\u001b[0;34m\u001b[0m\u001b[0;34m\u001b[0m\u001b[0m\n",
      "\u001b[0;31mModuleNotFoundError\u001b[0m: No module named 'utils.system_utils'; 'utils' is not a package"
     ]
    }
   ],
   "source": [
    "from arguments import ModelParams, PipelineParams, get_combined_args\n",
    "# from gaussian_renderer import GaussianModel\n",
    "from scene import Scene\n",
    "sys.path.append('/home/sarah/LangSplat/utils')\n",
    "\n",
    "with torch.no_grad():\n",
    "#     gaussians = GaussianModel(dataset.sh_degree)\n",
    "    scene = Scene(dataset, gaussians, shuffle=False)\n",
    "    checkpoint = os.path.join(args.model_path, 'chkpnt30000.pth')\n",
    "    (model_params, first_iter) = torch.load(checkpoint)\n",
    "    gaussians.restore(model_params, args, mode='test')\n",
    "\n",
    "    bg_color = [1,1,1] if dataset.white_background else [0, 0, 0]\n",
    "    background = torch.tensor(bg_color, dtype=torch.float32, device=\"cuda\")"
   ]
  },
  {
   "cell_type": "code",
   "execution_count": 30,
   "metadata": {},
   "outputs": [
    {
     "ename": "ModuleNotFoundError",
     "evalue": "No module named 'utils.system_utils'; 'utils' is not a package",
     "output_type": "error",
     "traceback": [
      "\u001b[0;31m---------------------------------------------------------------------------\u001b[0m",
      "\u001b[0;31mModuleNotFoundError\u001b[0m                       Traceback (most recent call last)",
      "\u001b[0;32m/tmp/ipykernel_365385/2025863878.py\u001b[0m in \u001b[0;36m<module>\u001b[0;34m\u001b[0m\n\u001b[1;32m      1\u001b[0m \u001b[0;32mfrom\u001b[0m \u001b[0marguments\u001b[0m \u001b[0;32mimport\u001b[0m \u001b[0mModelParams\u001b[0m\u001b[0;34m,\u001b[0m \u001b[0mPipelineParams\u001b[0m\u001b[0;34m,\u001b[0m \u001b[0mget_combined_args\u001b[0m\u001b[0;34m\u001b[0m\u001b[0;34m\u001b[0m\u001b[0m\n\u001b[0;32m----> 2\u001b[0;31m \u001b[0;32mfrom\u001b[0m \u001b[0mgaussian_renderer\u001b[0m \u001b[0;32mimport\u001b[0m \u001b[0mGaussianModel\u001b[0m\u001b[0;34m\u001b[0m\u001b[0;34m\u001b[0m\u001b[0m\n\u001b[0m\u001b[1;32m      3\u001b[0m \u001b[0;34m\u001b[0m\u001b[0m\n\u001b[1;32m      4\u001b[0m \u001b[0;32mdef\u001b[0m \u001b[0mrender_set\u001b[0m\u001b[0;34m(\u001b[0m\u001b[0mmodel_path\u001b[0m\u001b[0;34m,\u001b[0m \u001b[0msource_path\u001b[0m\u001b[0;34m,\u001b[0m \u001b[0mname\u001b[0m\u001b[0;34m,\u001b[0m \u001b[0miteration\u001b[0m\u001b[0;34m,\u001b[0m \u001b[0mviews\u001b[0m\u001b[0;34m,\u001b[0m \u001b[0mgaussians\u001b[0m\u001b[0;34m,\u001b[0m \u001b[0mpipeline\u001b[0m\u001b[0;34m,\u001b[0m \u001b[0mbackground\u001b[0m\u001b[0;34m,\u001b[0m \u001b[0margs\u001b[0m\u001b[0;34m)\u001b[0m\u001b[0;34m:\u001b[0m\u001b[0;34m\u001b[0m\u001b[0;34m\u001b[0m\u001b[0m\n\u001b[1;32m      5\u001b[0m     \u001b[0mrender_path\u001b[0m \u001b[0;34m=\u001b[0m \u001b[0mos\u001b[0m\u001b[0;34m.\u001b[0m\u001b[0mpath\u001b[0m\u001b[0;34m.\u001b[0m\u001b[0mjoin\u001b[0m\u001b[0;34m(\u001b[0m\u001b[0mmodel_path\u001b[0m\u001b[0;34m,\u001b[0m \u001b[0mname\u001b[0m\u001b[0;34m,\u001b[0m \u001b[0;34m\"ours_{}\"\u001b[0m\u001b[0;34m.\u001b[0m\u001b[0mformat\u001b[0m\u001b[0;34m(\u001b[0m\u001b[0miteration\u001b[0m\u001b[0;34m)\u001b[0m\u001b[0;34m,\u001b[0m \u001b[0;34m\"renders\"\u001b[0m\u001b[0;34m)\u001b[0m\u001b[0;34m\u001b[0m\u001b[0;34m\u001b[0m\u001b[0m\n",
      "\u001b[0;32m~/LangSplat/gaussian_renderer/__init__.py\u001b[0m in \u001b[0;36m<module>\u001b[0;34m\u001b[0m\n\u001b[1;32m     14\u001b[0m \u001b[0;32mimport\u001b[0m \u001b[0mmath\u001b[0m\u001b[0;34m\u001b[0m\u001b[0;34m\u001b[0m\u001b[0m\n\u001b[1;32m     15\u001b[0m \u001b[0;32mfrom\u001b[0m \u001b[0mdiff_gaussian_rasterization\u001b[0m \u001b[0;32mimport\u001b[0m \u001b[0mGaussianRasterizationSettings\u001b[0m\u001b[0;34m,\u001b[0m \u001b[0mGaussianRasterizer\u001b[0m\u001b[0;34m\u001b[0m\u001b[0;34m\u001b[0m\u001b[0m\n\u001b[0;32m---> 16\u001b[0;31m \u001b[0;32mfrom\u001b[0m \u001b[0mscene\u001b[0m\u001b[0;34m.\u001b[0m\u001b[0mgaussian_model\u001b[0m \u001b[0;32mimport\u001b[0m \u001b[0mGaussianModel\u001b[0m\u001b[0;34m\u001b[0m\u001b[0;34m\u001b[0m\u001b[0m\n\u001b[0m\u001b[1;32m     17\u001b[0m \u001b[0;32mfrom\u001b[0m \u001b[0mutils\u001b[0m\u001b[0;34m.\u001b[0m\u001b[0msh_utils\u001b[0m \u001b[0;32mimport\u001b[0m \u001b[0meval_sh\u001b[0m\u001b[0;34m\u001b[0m\u001b[0;34m\u001b[0m\u001b[0m\n\u001b[1;32m     18\u001b[0m \u001b[0;34m\u001b[0m\u001b[0m\n",
      "\u001b[0;32m~/LangSplat/scene/__init__.py\u001b[0m in \u001b[0;36m<module>\u001b[0;34m\u001b[0m\n\u001b[1;32m     13\u001b[0m \u001b[0;32mimport\u001b[0m \u001b[0mrandom\u001b[0m\u001b[0;34m\u001b[0m\u001b[0;34m\u001b[0m\u001b[0m\n\u001b[1;32m     14\u001b[0m \u001b[0;32mimport\u001b[0m \u001b[0mjson\u001b[0m\u001b[0;34m\u001b[0m\u001b[0;34m\u001b[0m\u001b[0m\n\u001b[0;32m---> 15\u001b[0;31m \u001b[0;32mfrom\u001b[0m \u001b[0mutils\u001b[0m\u001b[0;34m.\u001b[0m\u001b[0msystem_utils\u001b[0m \u001b[0;32mimport\u001b[0m \u001b[0msearchForMaxIteration\u001b[0m\u001b[0;34m\u001b[0m\u001b[0;34m\u001b[0m\u001b[0m\n\u001b[0m\u001b[1;32m     16\u001b[0m \u001b[0;32mfrom\u001b[0m \u001b[0mscene\u001b[0m\u001b[0;34m.\u001b[0m\u001b[0mdataset_readers\u001b[0m \u001b[0;32mimport\u001b[0m \u001b[0msceneLoadTypeCallbacks\u001b[0m\u001b[0;34m\u001b[0m\u001b[0;34m\u001b[0m\u001b[0m\n\u001b[1;32m     17\u001b[0m \u001b[0;32mfrom\u001b[0m \u001b[0mscene\u001b[0m\u001b[0;34m.\u001b[0m\u001b[0mgaussian_model\u001b[0m \u001b[0;32mimport\u001b[0m \u001b[0mGaussianModel\u001b[0m\u001b[0;34m\u001b[0m\u001b[0;34m\u001b[0m\u001b[0m\n",
      "\u001b[0;31mModuleNotFoundError\u001b[0m: No module named 'utils.system_utils'; 'utils' is not a package"
     ]
    }
   ],
   "source": [
    "\n",
    "\n",
    "def render_set(model_path, source_path, name, iteration, views, gaussians, pipeline, background, args):\n",
    "    render_path = os.path.join(model_path, name, \"ours_{}\".format(iteration), \"renders\")\n",
    "    gts_path = os.path.join(model_path, name, \"ours_{}\".format(iteration), \"gt\")\n",
    "    render_npy_path = os.path.join(model_path, name, \"ours_{}\".format(iteration), \"renders_npy\")\n",
    "    gts_npy_path = os.path.join(model_path, name, \"ours_{}\".format(iteration), \"gt_npy\")\n",
    "\n",
    "    makedirs(render_npy_path, exist_ok=True)\n",
    "    makedirs(gts_npy_path, exist_ok=True)\n",
    "    makedirs(render_path, exist_ok=True)\n",
    "    makedirs(gts_path, exist_ok=True)\n",
    "\n",
    "    for idx, view in enumerate(tqdm(views, desc=\"Rendering progress\")):\n",
    "        output = render(view, gaussians, pipeline, background, args)\n",
    "\n",
    "        if not args.include_feature:\n",
    "            rendering = output[\"render\"]\n",
    "        else:\n",
    "            rendering = output[\"language_feature_image\"]\n",
    "            \n",
    "        if not args.include_feature:\n",
    "            gt = view.original_image[0:3, :, :]\n",
    "            \n",
    "        else:\n",
    "            gt, mask = view.get_language_feature(os.path.join(source_path, args.language_features_name), feature_level=args.feature_level)\n",
    "\n",
    "        np.save(os.path.join(render_npy_path, '{0:05d}'.format(idx) + \".npy\"),rendering.permute(1,2,0).cpu().numpy())\n",
    "        np.save(os.path.join(gts_npy_path, '{0:05d}'.format(idx) + \".npy\"),gt.permute(1,2,0).cpu().numpy())\n",
    "        torchvision.utils.save_image(rendering, os.path.join(render_path, '{0:05d}'.format(idx) + \".png\"))\n",
    "        torchvision.utils.save_image(gt, os.path.join(gts_path, '{0:05d}'.format(idx) + \".png\"))\n",
    "               \n",
    "def render_sets(dataset : ModelParams, iteration : int, pipeline : PipelineParams, skip_train : bool, skip_test : bool, args):\n",
    "    with torch.no_grad():\n",
    "        gaussians = GaussianModel(dataset.sh_degree)\n",
    "        scene = Scene(dataset, gaussians, shuffle=False)\n",
    "        checkpoint = os.path.join(args.model_path, 'chkpnt30000.pth')\n",
    "        (model_params, first_iter) = torch.load(checkpoint)\n",
    "        gaussians.restore(model_params, args, mode='test')\n",
    "        \n",
    "        bg_color = [1,1,1] if dataset.white_background else [0, 0, 0]\n",
    "        background = torch.tensor(bg_color, dtype=torch.float32, device=\"cuda\")\n",
    "\n",
    "        if not skip_train:\n",
    "             render_set(dataset.model_path, dataset.source_path, \"train\", scene.loaded_iter, scene.getTrainCameras(), gaussians, pipeline, background, args)\n",
    "\n",
    "        if not skip_test:\n",
    "             render_set(dataset.model_path, dataset.source_path, \"test\", scene.loaded_iter, scene.getTestCameras(), gaussians, pipeline, background, args)"
   ]
  },
  {
   "cell_type": "code",
   "execution_count": null,
   "metadata": {},
   "outputs": [],
   "source": []
  }
 ],
 "metadata": {
  "kernelspec": {
   "display_name": "Python 3 (ipykernel)",
   "language": "python",
   "name": "python3"
  },
  "language_info": {
   "codemirror_mode": {
    "name": "ipython",
    "version": 3
   },
   "file_extension": ".py",
   "mimetype": "text/x-python",
   "name": "python",
   "nbconvert_exporter": "python",
   "pygments_lexer": "ipython3",
   "version": "3.7.13"
  }
 },
 "nbformat": 4,
 "nbformat_minor": 2
}
