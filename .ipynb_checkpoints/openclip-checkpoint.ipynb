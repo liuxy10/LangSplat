{
 "cells": [
  {
   "cell_type": "code",
   "execution_count": 1,
   "metadata": {},
   "outputs": [],
   "source": [
    "\n",
    "# now import features pretrained preprocessed npy\n",
    "import sys\n",
    "import types\n",
    "sys.path.append(\"/home/sarah/LangSplat/eval\")\n",
    "\n",
    "import open_clip\n",
    "import numpy as np\n",
    "import torch\n",
    "from openclip_encoder import OpenCLIPNetwork\n",
    "\n",
    "import os \n",
    "# sys.path.append(\"/home/sarah/LangSplat/\")\n",
    "sys.path.append(\"/home/sarah/LangSplat/utils/\")\n",
    "from general_utils import safe_state\n",
    "# from render import render_sets\n",
    "sys.path.append(\"/home/sarah/LangSplat/scene\")"
   ]
  },
  {
   "cell_type": "code",
   "execution_count": 2,
   "metadata": {},
   "outputs": [],
   "source": [
    "device = torch.device(\"cuda\" if torch.cuda.is_available() else \"cpu\")"
   ]
  },
  {
   "cell_type": "code",
   "execution_count": 3,
   "metadata": {},
   "outputs": [],
   "source": [
    "# model, _, preprocess = open_clip.create_model_and_transforms('convnext_base_w', pretrained='laion2b_s13b_b82k_augreg')\n",
    "clip_model_type = \"ViT-B-16\"\n",
    "clip_model_pretrained = 'laion2b_s34b_b88k'\n",
    "clip_n_dims = 512\n",
    "model, _, _ = open_clip.create_model_and_transforms(\n",
    "            clip_model_type,\n",
    "            pretrained=clip_model_pretrained,\n",
    "            precision=\"fp16\",\n",
    "        )\n",
    "# model.eval()"
   ]
  },
  {
   "cell_type": "code",
   "execution_count": 4,
   "metadata": {},
   "outputs": [],
   "source": [
    "tokenizer = open_clip.get_tokenizer(clip_model_type)\n",
    "model = model.to(\"cuda\")\n"
   ]
  },
  {
   "cell_type": "code",
   "execution_count": 5,
   "metadata": {},
   "outputs": [],
   "source": [
    "positives = (\"switch\", \"Nintendo\", \"red\", \"controller\", \n",
    "             \"UNO\", \"card\", \"stack\"\n",
    "             \"sofa\",\"grey\",\n",
    "             \"Gundam\", \n",
    "             \"Pikachu\", \n",
    "             \"Xbox\", \"wireless\")\n",
    "with torch.no_grad():\n",
    "    tok_phrases = torch.cat([tokenizer(phrase) for phrase in positives]).to(device)\n",
    "    pos_embeds = model.encode_text(tok_phrases)\n",
    "pos_embeds /= pos_embeds.norm(dim=-1, keepdim=True)  "
   ]
  },
  {
   "cell_type": "code",
   "execution_count": 6,
   "metadata": {},
   "outputs": [
    {
     "data": {
      "text/plain": [
       "torch.Size([12, 512])"
      ]
     },
     "execution_count": 6,
     "metadata": {},
     "output_type": "execute_result"
    }
   ],
   "source": [
    "pos_embeds.shape\n"
   ]
  },
  {
   "cell_type": "code",
   "execution_count": 7,
   "metadata": {},
   "outputs": [],
   "source": [
    "\n",
    "\n",
    "dict_args = {}\n",
    "args = types.SimpleNamespace(**dict_args)\n",
    "# parser.add_argument(\"--iteration\", default=-1, type=int)\n",
    "# parser.add_argument(\"--skip_train\", action=\"store_true\")\n",
    "# parser.add_argument(\"--skip_test\", action=\"store_true\")\n",
    "# parser.add_argument(\"--quiet\", action=\"store_true\")\n",
    "# parser.add_argument(\"--include_feature\", action=\"store_true\")\n",
    "# parser.add_argument(\"--model_path\", default = \"/home/sarah/LangSplat/sofa/sofa_1\")\n",
    "args.iteration = -1\n",
    "args.skip_train = True\n",
    "args.skip_test = True\n",
    "args.quiet = True\n",
    "args.include_feature = True\n",
    "args.model_path = \"/home/sarah/LangSplat/sofa/sofa_1\""
   ]
  },
  {
   "cell_type": "code",
   "execution_count": 8,
   "metadata": {},
   "outputs": [
    {
     "data": {
      "text/plain": [
       "'/home/sarah/LangSplat/sofa/sofa_1/train/ours_0/renders'"
      ]
     },
     "execution_count": 8,
     "metadata": {},
     "output_type": "execute_result"
    }
   ],
   "source": [
    "\n",
    "\n",
    "checkpoint = os.path.join(args.model_path, 'chkpnt30000.pth')\n",
    "# (model_params, first_iter) = torch.load(checkpoint)\n",
    "bg_color = [0,0,0]\n",
    "\n",
    "model_path = args.model_path\n",
    "iteration = 0\n",
    "render_path = os.path.join(model_path, \"train\", \"ours_{}\".format(iteration), \"renders\")\n",
    "gts_path = os.path.join(model_path, \"train\", \"ours_{}\".format(iteration), \"gt\")\n",
    "render_npy_path = os.path.join(model_path, \"train\",\"ours_{}\".format(iteration), \"renders_npy\")\n",
    "gts_npy_path = os.path.join(model_path, \"train\", \"ours_{}\".format(iteration), \"gt_npy\")\n",
    "\n",
    "render_path"
   ]
  },
  {
   "cell_type": "code",
   "execution_count": 9,
   "metadata": {},
   "outputs": [],
   "source": [
    "def get_language_feature(language_feature_dir, feature_level, image_name, image_height = 1080, image_width = 1440):\n",
    "    language_feature_name = os.path.join(language_feature_dir, image_name)\n",
    "    seg_map = torch.from_numpy(np.load(language_feature_name + '_s.npy')) # torch.Size([4, 832, 1264])\n",
    "    feature_map = torch.from_numpy(np.load(language_feature_name + '_f.npy')) # torch.Size([391, 512])\n",
    "    print(feature_map.shape)\n",
    "    # elif str(language_feature_name).split('.')[-1] == 'pkl':\n",
    "    #     with open(language_feature_name, 'rb') as f:\n",
    "    #         data = pickle.load(f)\n",
    "    #     seg_map = data['seg_maps']\n",
    "    #     feature_tensor = data['feature']\n",
    "    # print(seg_map.shape, feature_tensor.shape)torch.Size([4, 832, 1264]) torch.Size([391, 512])\n",
    "    # feature_map = torch.zeros(512, self.image_height, self.image_width)\n",
    "    y, x = torch.meshgrid(torch.arange(0, image_height), torch.arange(0, image_width))\n",
    "    x = x.reshape(-1, 1)\n",
    "    y = y.reshape(-1, 1)\n",
    "    print(seg_map.shape)\n",
    "    seg = seg_map[:, y, x].squeeze(-1).long()\n",
    "    print(seg.shape)\n",
    "    mask = seg != -1\n",
    "    if feature_level == 0: # default\n",
    "        point_feature1 = feature_map[seg[0:1]].squeeze(0)\n",
    "        mask = mask[0:1].reshape(1, image_height, image_width)\n",
    "    elif feature_level == 1: # s\n",
    "        point_feature1 = feature_map[seg[1:2]].squeeze(0)\n",
    "        mask = mask[1:2].reshape(1, image_height, image_width)\n",
    "    elif feature_level == 2: # m\n",
    "        point_feature1 = feature_map[seg[2:3]].squeeze(0)\n",
    "        mask = mask[2:3].reshape(1, image_height, image_width)\n",
    "    elif feature_level == 3: # l\n",
    "        point_feature1 = feature_map[seg[3:4]].squeeze(0)\n",
    "        mask = mask[3:4].reshape(1, image_height, image_width)\n",
    "    else:\n",
    "        raise ValueError(\"feature_level=\", feature_level)\n",
    "    # point_feature = torch.cat((point_feature2, point_feature3, point_feature4), dim=-1).to('cuda')\n",
    "    point_feature = point_feature1.reshape(image_height, image_width, -1).permute(2, 0, 1)\n",
    "\n",
    "    return point_feature.cuda(), mask.cuda()"
   ]
  },
  {
   "cell_type": "code",
   "execution_count": 10,
   "metadata": {},
   "outputs": [
    {
     "name": "stdout",
     "output_type": "stream",
     "text": [
      "torch.Size([170, 512])\n",
      "torch.Size([4, 1080, 1440])\n",
      "torch.Size([4, 1555200])\n"
     ]
    },
    {
     "name": "stderr",
     "output_type": "stream",
     "text": [
      "/home/sarah/anaconda3/envs/langsplat/lib/python3.7/site-packages/torch/functional.py:478: UserWarning: torch.meshgrid: in an upcoming release, it will be required to pass the indexing argument. (Triggered internally at  /opt/conda/conda-bld/pytorch_1659484801627/work/aten/src/ATen/native/TensorShape.cpp:2894.)\n",
      "  return _VF.meshgrid(tensors, **kwargs)  # type: ignore[attr-defined]\n"
     ]
    },
    {
     "data": {
      "text/plain": [
       "(torch.Size([512, 1080, 1440]), torch.Size([1, 1080, 1440]))"
      ]
     },
     "execution_count": 10,
     "metadata": {},
     "output_type": "execute_result"
    }
   ],
   "source": [
    "language_feature_dir = '/home/sarah/LangSplat/sofa/language_features/'\n",
    "feature_level = 3\n",
    "image_name = '01'\n",
    "gt, mask = get_language_feature(language_feature_dir, feature_level, image_name, image_height = 1080, image_width = 1440)\n",
    "\n",
    "\n",
    "gt.shape, mask.shape\n"
   ]
  },
  {
   "cell_type": "code",
   "execution_count": 11,
   "metadata": {},
   "outputs": [
    {
     "data": {
      "image/png": "[encoded data removed]",
      "text/plain": [
       "<Figure size 800x600 with 2 Axes>"
      ]
     },
     "metadata": {},
     "output_type": "display_data"
    }
   ],
   "source": [
    "import matplotlib.pyplot as plt\n",
    "import torch\n",
    "\n",
    "# Assuming mask_tensor is your PyTorch tensor with shape [1, 1080, 1440]\n",
    "# You may need to reshape or squeeze the tensor depending on its shape\n",
    "mask_tensor = torch.randn(1, 1080, 1440)  # Example random tensor\n",
    "\n",
    "# Convert PyTorch tensor to NumPy array\n",
    "mask_array = mask.squeeze().cpu().numpy()\n",
    "\n",
    "# Plot the mask using Matplotlib\n",
    "plt.figure(figsize=(8, 6))\n",
    "plt.imshow(mask_array, cmap='gray')  # Adjust the colormap as needed\n",
    "plt.title('Mask Visualization')\n",
    "plt.colorbar()  # Add a colorbar to show the intensity scale\n",
    "plt.axis('off')  # Turn off axis labels\n",
    "plt.show()"
   ]
  },
  {
   "cell_type": "code",
   "execution_count": 12,
   "metadata": {},
   "outputs": [],
   "source": [
    "\n",
    "from __future__ import annotations\n",
    "\n",
    "import json\n",
    "import os\n",
    "import glob\n",
    "import random\n",
    "from collections import defaultdict\n",
    "from pathlib import Path\n",
    "from typing import Dict, Union\n",
    "from argparse import ArgumentParser\n",
    "import logging\n",
    "import cv2\n",
    "import numpy as np\n",
    "import torch\n",
    "import time\n",
    "from tqdm import tqdm\n",
    "from pathlib import Path\n",
    "\n",
    "import sys\n",
    "sys.path.append(\"eval/\")\n",
    "from evaluate_iou_loc import eval_gt_lerfdata\n",
    "\n",
    "import colormaps\n",
    "from autoencoder.model import Autoencoder\n",
    "from openclip_encoder import OpenCLIPNetwork\n",
    "from utils import smooth, colormap_saving, vis_mask_save, polygon_to_mask, stack_mask, show_result\n",
    "\n",
    "feat_dir = [\"/home/sarah/LangSplat/sofa/language_features\"]\n",
    "\n",
    "ae_ckpt_path= \"/home/sarah/LangSplat/ckpt/sofa/best_ckpt.pth\"#\"/home/sarah/LangSplat/ckpt/sam_vit_h_4b8939.pth\"\n",
    "\n"
   ]
  },
  {
   "cell_type": "code",
   "execution_count": 13,
   "metadata": {},
   "outputs": [
    {
     "data": {
      "text/plain": [
       "['/home/sarah/lerf_ovs/label/teatime/frame_00002.jpg',\n",
       " '/home/sarah/lerf_ovs/label/teatime/frame_00025.jpg',\n",
       " '/home/sarah/lerf_ovs/label/teatime/frame_00043.jpg',\n",
       " '/home/sarah/lerf_ovs/label/teatime/frame_00107.jpg',\n",
       " '/home/sarah/lerf_ovs/label/teatime/frame_00129.jpg',\n",
       " '/home/sarah/lerf_ovs/label/teatime/frame_00140.jpg']"
      ]
     },
     "execution_count": 13,
     "metadata": {},
     "output_type": "execute_result"
    }
   ],
   "source": [
    "json_folder= \"/home/sarah/lerf_ovs/label/teatime/\"\n",
    "output_path = \"/home/sarah/lerf_ovs/teatime/output/\"\n",
    "gt_ann, image_shape, image_paths = eval_gt_lerfdata(Path(json_folder), Path(output_path))\n",
    "eval_index_list = [int(idx) for idx in list(gt_ann.keys())]\n",
    "\n",
    "eval_index_list\n",
    "gt_ann\n",
    "image_paths"
   ]
  },
  {
   "cell_type": "code",
   "execution_count": 14,
   "metadata": {},
   "outputs": [],
   "source": [
    "feat_dir = [\"/home/sarah/LangSplat/sofa/sofa_1/train/ours_None/renders_npy\"]\n",
    "\n",
    "feat_paths_lvl = sorted(glob.glob(os.path.join(feat_dir[0], '*.npy')),\n",
    "                           key=lambda file_name: int(os.path.basename(file_name).split(\".npy\")[0]))\n"
   ]
  },
  {
   "cell_type": "code",
   "execution_count": 15,
   "metadata": {},
   "outputs": [
    {
     "name": "stdout",
     "output_type": "stream",
     "text": [
      "0 0 2\n",
      "0 1 4\n",
      "0 2 10\n",
      "0 3 15\n",
      "0 4 22\n"
     ]
    }
   ],
   "source": [
    "image_shape = (1080,1440)\n",
    "eval_index_list = [2,4,10,15,22]\n",
    "compressed_sem_feats = np.zeros((len(feat_dir), len(eval_index_list), *image_shape, 3), dtype=np.float32)\n",
    "\n",
    "\n",
    "for i in range(len(feat_dir)):\n",
    "    feat_paths_lvl = sorted(glob.glob(os.path.join(feat_dir[i], '*.npy')),\n",
    "                           key=lambda file_name: int(os.path.basename(file_name).split(\".npy\")[0]))\n",
    "\n",
    "    for j, idx in enumerate(eval_index_list):\n",
    "        print(i,j,idx)\n",
    "        compressed_sem_feats[i][j] = np.load(feat_paths_lvl[idx])\n"
   ]
  },
  {
   "cell_type": "code",
   "execution_count": 16,
   "metadata": {},
   "outputs": [
    {
     "name": "stdout",
     "output_type": "stream",
     "text": [
      "ModuleList(\n",
      "  (0): Linear(in_features=512, out_features=256, bias=True)\n",
      "  (1): BatchNorm1d(256, eps=1e-05, momentum=0.1, affine=True, track_running_stats=True)\n",
      "  (2): ReLU()\n",
      "  (3): Linear(in_features=256, out_features=128, bias=True)\n",
      "  (4): BatchNorm1d(128, eps=1e-05, momentum=0.1, affine=True, track_running_stats=True)\n",
      "  (5): ReLU()\n",
      "  (6): Linear(in_features=128, out_features=64, bias=True)\n",
      "  (7): BatchNorm1d(64, eps=1e-05, momentum=0.1, affine=True, track_running_stats=True)\n",
      "  (8): ReLU()\n",
      "  (9): Linear(in_features=64, out_features=32, bias=True)\n",
      "  (10): BatchNorm1d(32, eps=1e-05, momentum=0.1, affine=True, track_running_stats=True)\n",
      "  (11): ReLU()\n",
      "  (12): Linear(in_features=32, out_features=3, bias=True)\n",
      ") ModuleList(\n",
      "  (0): Linear(in_features=3, out_features=16, bias=True)\n",
      "  (1): ReLU()\n",
      "  (2): Linear(in_features=16, out_features=32, bias=True)\n",
      "  (3): ReLU()\n",
      "  (4): Linear(in_features=32, out_features=64, bias=True)\n",
      "  (5): ReLU()\n",
      "  (6): Linear(in_features=64, out_features=128, bias=True)\n",
      "  (7): ReLU()\n",
      "  (8): Linear(in_features=128, out_features=256, bias=True)\n",
      "  (9): ReLU()\n",
      "  (10): Linear(in_features=256, out_features=256, bias=True)\n",
      "  (11): ReLU()\n",
      "  (12): Linear(in_features=256, out_features=512, bias=True)\n",
      ")\n"
     ]
    }
   ],
   "source": [
    "encoder_hidden_dims = [256, 128, 64, 32, 3]\n",
    "decoder_hidden_dims = [16, 32, 64, 128, 256, 256, 512]\n",
    "# instantiate autoencoder and openclip\n",
    "device = 'cuda'\n",
    "clip_model = OpenCLIPNetwork(device)\n",
    "checkpoint = torch.load(ae_ckpt_path, map_location='cuda')\n",
    "\n",
    "model = Autoencoder(encoder_hidden_dims, decoder_hidden_dims).to(device)\n",
    "model.load_state_dict(checkpoint)\n",
    "model.eval()\n",
    "\n",
    "chosen_iou_all, chosen_lvl_list = [], []\n",
    "acc_num = 0\n",
    "\n"
   ]
  },
  {
   "cell_type": "code",
   "execution_count": 17,
   "metadata": {},
   "outputs": [],
   "source": [
    "torch.cuda.empty_cache()"
   ]
  },
  {
   "cell_type": "code",
   "execution_count": 18,
   "metadata": {},
   "outputs": [
    {
     "name": "stdout",
     "output_type": "stream",
     "text": [
      "/home/sarah/LangSplat/sofa/jn_test/00003\n",
      "torch.Size([1, 1080, 1440, 3]) tensor(0.9946, device='cuda:0')\n"
     ]
    },
    {
     "data": {
      "text/plain": [
       "-1"
      ]
     },
     "execution_count": 18,
     "metadata": {},
     "output_type": "execute_result"
    }
   ],
   "source": [
    "import cv2\n",
    "idx = 2\n",
    "output_path = \"/home/sarah/LangSplat/sofa/jn_test\"\n",
    "print(Path(output_path) / f'{idx+1:0>5}')\n",
    "image_name = Path(output_path) / f'{idx+1:0>5}'\n",
    "image_name.mkdir(exist_ok=True, parents=True)\n",
    "\n",
    "image_paths = [f'/home/sarah/LangSplat/sofa/images/{idx+1:0>2}.jpg' for idx in eval_index_list]\n",
    "j = 0\n",
    "idx = 2\n",
    "sem_feat = compressed_sem_feats[:, j, ...]\n",
    "sem_feat = torch.from_numpy(sem_feat).float().to(device)\n",
    "\n",
    "print(sem_feat.shape, torch.max(sem_feat))\n",
    "new_img = (255* np.squeeze((sem_feat.cpu().numpy())).astype(np.int8))\n",
    "print(new_img)\n",
    "cv2.imshow(\"a\",new_img)\n",
    "cv2.waitKey(5000)\n"
   ]
  },
  {
   "cell_type": "code",
   "execution_count": 19,
   "metadata": {},
   "outputs": [
    {
     "ename": "RuntimeError",
     "evalue": "CUDA out of memory. Tried to allocate 2.97 GiB (GPU 0; 11.90 GiB total capacity; 4.95 GiB already allocated; 2.10 GiB free; 5.05 GiB reserved in total by PyTorch) If reserved memory is >> allocated memory try setting max_split_size_mb to avoid fragmentation.  See documentation for Memory Management and PYTORCH_CUDA_ALLOC_CONF",
     "output_type": "error",
     "traceback": [
      "\u001b[0;31m---------------------------------------------------------------------------\u001b[0m",
      "\u001b[0;31mRuntimeError\u001b[0m                              Traceback (most recent call last)",
      "\u001b[0;32m/tmp/ipykernel_121489/2585135591.py\u001b[0m in \u001b[0;36m<module>\u001b[0;34m\u001b[0m\n\u001b[1;32m      7\u001b[0m \u001b[0;32mwith\u001b[0m \u001b[0mtorch\u001b[0m\u001b[0;34m.\u001b[0m\u001b[0mno_grad\u001b[0m\u001b[0;34m(\u001b[0m\u001b[0;34m)\u001b[0m\u001b[0;34m:\u001b[0m\u001b[0;34m\u001b[0m\u001b[0;34m\u001b[0m\u001b[0m\n\u001b[1;32m      8\u001b[0m     \u001b[0mlvl\u001b[0m\u001b[0;34m,\u001b[0m \u001b[0mh\u001b[0m\u001b[0;34m,\u001b[0m \u001b[0mw\u001b[0m\u001b[0;34m,\u001b[0m \u001b[0m_\u001b[0m \u001b[0;34m=\u001b[0m \u001b[0msem_feat\u001b[0m\u001b[0;34m.\u001b[0m\u001b[0mshape\u001b[0m\u001b[0;34m\u001b[0m\u001b[0;34m\u001b[0m\u001b[0m\n\u001b[0;32m----> 9\u001b[0;31m     \u001b[0mrestored_feat\u001b[0m \u001b[0;34m=\u001b[0m \u001b[0mmodel\u001b[0m\u001b[0;34m.\u001b[0m\u001b[0mdecode\u001b[0m\u001b[0;34m(\u001b[0m\u001b[0msem_feat\u001b[0m\u001b[0;34m.\u001b[0m\u001b[0mflatten\u001b[0m\u001b[0;34m(\u001b[0m\u001b[0;36m0\u001b[0m\u001b[0;34m,\u001b[0m \u001b[0;36m2\u001b[0m\u001b[0;34m)\u001b[0m\u001b[0;34m)\u001b[0m\u001b[0;34m\u001b[0m\u001b[0;34m\u001b[0m\u001b[0m\n\u001b[0m\u001b[1;32m     10\u001b[0m     \u001b[0mrestored_feat\u001b[0m \u001b[0;34m=\u001b[0m \u001b[0mrestored_feat\u001b[0m\u001b[0;34m.\u001b[0m\u001b[0mview\u001b[0m\u001b[0;34m(\u001b[0m\u001b[0mlvl\u001b[0m\u001b[0;34m,\u001b[0m \u001b[0mh\u001b[0m\u001b[0;34m,\u001b[0m \u001b[0mw\u001b[0m\u001b[0;34m,\u001b[0m \u001b[0;34m-\u001b[0m\u001b[0;36m1\u001b[0m\u001b[0;34m)\u001b[0m           \u001b[0;31m# 3x832x1264x512\u001b[0m\u001b[0;34m\u001b[0m\u001b[0;34m\u001b[0m\u001b[0m\n",
      "\u001b[0;32m~/LangSplat/autoencoder/model.py\u001b[0m in \u001b[0;36mdecode\u001b[0;34m(self, x)\u001b[0m\n\u001b[1;32m     43\u001b[0m     \u001b[0;32mdef\u001b[0m \u001b[0mdecode\u001b[0m\u001b[0;34m(\u001b[0m\u001b[0mself\u001b[0m\u001b[0;34m,\u001b[0m \u001b[0mx\u001b[0m\u001b[0;34m)\u001b[0m\u001b[0;34m:\u001b[0m\u001b[0;34m\u001b[0m\u001b[0;34m\u001b[0m\u001b[0m\n\u001b[1;32m     44\u001b[0m         \u001b[0;32mfor\u001b[0m \u001b[0mm\u001b[0m \u001b[0;32min\u001b[0m \u001b[0mself\u001b[0m\u001b[0;34m.\u001b[0m\u001b[0mdecoder\u001b[0m\u001b[0;34m:\u001b[0m\u001b[0;34m\u001b[0m\u001b[0;34m\u001b[0m\u001b[0m\n\u001b[0;32m---> 45\u001b[0;31m             \u001b[0mx\u001b[0m \u001b[0;34m=\u001b[0m \u001b[0mm\u001b[0m\u001b[0;34m(\u001b[0m\u001b[0mx\u001b[0m\u001b[0;34m)\u001b[0m\u001b[0;34m\u001b[0m\u001b[0;34m\u001b[0m\u001b[0m\n\u001b[0m\u001b[1;32m     46\u001b[0m         \u001b[0mx\u001b[0m \u001b[0;34m=\u001b[0m \u001b[0mx\u001b[0m \u001b[0;34m/\u001b[0m \u001b[0mx\u001b[0m\u001b[0;34m.\u001b[0m\u001b[0mnorm\u001b[0m\u001b[0;34m(\u001b[0m\u001b[0mdim\u001b[0m\u001b[0;34m=\u001b[0m\u001b[0;34m-\u001b[0m\u001b[0;36m1\u001b[0m\u001b[0;34m,\u001b[0m \u001b[0mkeepdim\u001b[0m\u001b[0;34m=\u001b[0m\u001b[0;32mTrue\u001b[0m\u001b[0;34m)\u001b[0m\u001b[0;34m\u001b[0m\u001b[0;34m\u001b[0m\u001b[0m\n\u001b[1;32m     47\u001b[0m         \u001b[0;32mreturn\u001b[0m \u001b[0mx\u001b[0m\u001b[0;34m\u001b[0m\u001b[0;34m\u001b[0m\u001b[0m\n",
      "\u001b[0;32m~/anaconda3/envs/langsplat/lib/python3.7/site-packages/torch/nn/modules/module.py\u001b[0m in \u001b[0;36m_call_impl\u001b[0;34m(self, *input, **kwargs)\u001b[0m\n\u001b[1;32m   1128\u001b[0m         if not (self._backward_hooks or self._forward_hooks or self._forward_pre_hooks or _global_backward_hooks\n\u001b[1;32m   1129\u001b[0m                 or _global_forward_hooks or _global_forward_pre_hooks):\n\u001b[0;32m-> 1130\u001b[0;31m             \u001b[0;32mreturn\u001b[0m \u001b[0mforward_call\u001b[0m\u001b[0;34m(\u001b[0m\u001b[0;34m*\u001b[0m\u001b[0minput\u001b[0m\u001b[0;34m,\u001b[0m \u001b[0;34m**\u001b[0m\u001b[0mkwargs\u001b[0m\u001b[0;34m)\u001b[0m\u001b[0;34m\u001b[0m\u001b[0;34m\u001b[0m\u001b[0m\n\u001b[0m\u001b[1;32m   1131\u001b[0m         \u001b[0;31m# Do not call functions when jit is used\u001b[0m\u001b[0;34m\u001b[0m\u001b[0;34m\u001b[0m\u001b[0;34m\u001b[0m\u001b[0m\n\u001b[1;32m   1132\u001b[0m         \u001b[0mfull_backward_hooks\u001b[0m\u001b[0;34m,\u001b[0m \u001b[0mnon_full_backward_hooks\u001b[0m \u001b[0;34m=\u001b[0m \u001b[0;34m[\u001b[0m\u001b[0;34m]\u001b[0m\u001b[0;34m,\u001b[0m \u001b[0;34m[\u001b[0m\u001b[0;34m]\u001b[0m\u001b[0;34m\u001b[0m\u001b[0;34m\u001b[0m\u001b[0m\n",
      "\u001b[0;32m~/anaconda3/envs/langsplat/lib/python3.7/site-packages/torch/nn/modules/linear.py\u001b[0m in \u001b[0;36mforward\u001b[0;34m(self, input)\u001b[0m\n\u001b[1;32m    112\u001b[0m \u001b[0;34m\u001b[0m\u001b[0m\n\u001b[1;32m    113\u001b[0m     \u001b[0;32mdef\u001b[0m \u001b[0mforward\u001b[0m\u001b[0;34m(\u001b[0m\u001b[0mself\u001b[0m\u001b[0;34m,\u001b[0m \u001b[0minput\u001b[0m\u001b[0;34m:\u001b[0m \u001b[0mTensor\u001b[0m\u001b[0;34m)\u001b[0m \u001b[0;34m->\u001b[0m \u001b[0mTensor\u001b[0m\u001b[0;34m:\u001b[0m\u001b[0;34m\u001b[0m\u001b[0;34m\u001b[0m\u001b[0m\n\u001b[0;32m--> 114\u001b[0;31m         \u001b[0;32mreturn\u001b[0m \u001b[0mF\u001b[0m\u001b[0;34m.\u001b[0m\u001b[0mlinear\u001b[0m\u001b[0;34m(\u001b[0m\u001b[0minput\u001b[0m\u001b[0;34m,\u001b[0m \u001b[0mself\u001b[0m\u001b[0;34m.\u001b[0m\u001b[0mweight\u001b[0m\u001b[0;34m,\u001b[0m \u001b[0mself\u001b[0m\u001b[0;34m.\u001b[0m\u001b[0mbias\u001b[0m\u001b[0;34m)\u001b[0m\u001b[0;34m\u001b[0m\u001b[0;34m\u001b[0m\u001b[0m\n\u001b[0m\u001b[1;32m    115\u001b[0m \u001b[0;34m\u001b[0m\u001b[0m\n\u001b[1;32m    116\u001b[0m     \u001b[0;32mdef\u001b[0m \u001b[0mextra_repr\u001b[0m\u001b[0;34m(\u001b[0m\u001b[0mself\u001b[0m\u001b[0;34m)\u001b[0m \u001b[0;34m->\u001b[0m \u001b[0mstr\u001b[0m\u001b[0;34m:\u001b[0m\u001b[0;34m\u001b[0m\u001b[0;34m\u001b[0m\u001b[0m\n",
      "\u001b[0;31mRuntimeError\u001b[0m: CUDA out of memory. Tried to allocate 2.97 GiB (GPU 0; 11.90 GiB total capacity; 4.95 GiB already allocated; 2.10 GiB free; 5.05 GiB reserved in total by PyTorch) If reserved memory is >> allocated memory try setting max_split_size_mb to avoid fragmentation.  See documentation for Memory Management and PYTORCH_CUDA_ALLOC_CONF"
     ]
    }
   ],
   "source": [
    "\n",
    "rgb_img = cv2.imread(image_paths[j])[..., ::-1]\n",
    "# cv2.imshow(\"a\",rgb_img)\n",
    "# cv2.waitKey(5000)\n",
    "rgb_img = (rgb_img / 255.0).astype(np.float32)\n",
    "rgb_img = torch.from_numpy(rgb_img).to(device)\n",
    "\n",
    "with torch.no_grad():\n",
    "    lvl, h, w, _ = sem_feat.shape\n",
    "    restored_feat = model.decode(sem_feat.flatten(0, 2))\n",
    "    restored_feat = restored_feat.view(lvl, h, w, -1)           # 3x832x1264x512"
   ]
  },
  {
   "cell_type": "code",
   "execution_count": null,
   "metadata": {},
   "outputs": [],
   "source": []
  }
 ],
 "metadata": {
  "kernelspec": {
   "display_name": "Python 3 (ipykernel)",
   "language": "python",
   "name": "python3"
  },
  "language_info": {
   "codemirror_mode": {
    "name": "ipython",
    "version": 3
   },
   "file_extension": ".py",
   "mimetype": "text/x-python",
   "name": "python",
   "nbconvert_exporter": "python",
   "pygments_lexer": "ipython3",
   "version": "3.7.13"
  }
 },
 "nbformat": 4,
 "nbformat_minor": 2
}
